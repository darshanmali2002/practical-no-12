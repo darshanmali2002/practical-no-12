{
  "nbformat": 4,
  "nbformat_minor": 0,
  "metadata": {
    "colab": {
      "name": "practical no 12.ipynb",
      "provenance": []
    },
    "kernelspec": {
      "name": "python3",
      "display_name": "Python 3"
    },
    "language_info": {
      "name": "python"
    }
  },
  "cells": [
    {
      "cell_type": "markdown",
      "source": [
        "Write a Pandas program to create and display a DataFrame from a specified dictionary data which has the index labels.\n",
        "\n",
        "Sample DataFrame:\n",
        "\n",
        "exam_data = {'name': ['anand', 'aryan', 'darshan', 'chetan', 'sidhart', 'rajesh', 'jaykumar', 'vaibhav', 'sarang', 'ganesh'],\n",
        "'score': [12.5, 9, 16.5, np.nan, 9, 20, 14.5, np.nan, 8, 19],\n",
        "'attempts': [1, 3, 2, 3, 2, 3, 1, 1, 2, 1],\n",
        "'qualify': ['yes', 'no', 'yes', 'no', 'no', 'yes', 'yes', 'no', 'no', 'yes']}\n",
        "labels = ['a', 'b', 'c', 'd', 'e', 'f', 'g', 'h', 'i', 'j']\n"
      ],
      "metadata": {
        "id": "KXzbwxn61JeH"
      }
    },
    {
      "cell_type": "code",
      "source": [
        "import pandas as pd\n",
        "import numpy as np\n",
        "\n",
        "exam_data  = {'name': ['anand', 'aryan', 'darshan', 'chetan', 'sidhart', 'rajesh', 'jaykumar', 'vaibhav', 'sarang', 'ganesh'],\n",
        "        'score': [12.5, 9, 16.5, np.nan, 9, 20, 14.5, np.nan, 8, 19],\n",
        "        'attempts': [1, 3, 2, 3, 2, 3, 1, 1, 2, 1],\n",
        "        'qualify': ['yes', 'no', 'yes', 'no', 'no', 'yes', 'yes', 'no', 'no', 'yes']}\n",
        "labels = ['a', 'b', 'c', 'd', 'e', 'f', 'g', 'h', 'i', 'j']\n",
        "\n",
        "df = pd.DataFrame(exam_data , index=labels)\n",
        "print(df)"
      ],
      "metadata": {
        "colab": {
          "base_uri": "https://localhost:8080/"
        },
        "id": "6FpQY5ZN1LqW",
        "outputId": "147fdd74-44ec-4d46-bd34-09d52fe9452e"
      },
      "execution_count": 1,
      "outputs": [
        {
          "output_type": "stream",
          "name": "stdout",
          "text": [
            "       name  score  attempts qualify\n",
            "a     anand   12.5         1     yes\n",
            "b     aryan    9.0         3      no\n",
            "c   darshan   16.5         2     yes\n",
            "d    chetan    NaN         3      no\n",
            "e   sidhart    9.0         2      no\n",
            "f    rajesh   20.0         3     yes\n",
            "g  jaykumar   14.5         1     yes\n",
            "h   vaibhav    NaN         1      no\n",
            "i    sarang    8.0         2      no\n",
            "j    ganesh   19.0         1     yes\n"
          ]
        }
      ]
    }
  ]
}